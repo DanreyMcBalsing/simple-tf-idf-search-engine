{
 "cells": [
  {
   "cell_type": "code",
   "execution_count": 79,
   "metadata": {},
   "outputs": [],
   "source": [
    "import math\n",
    "import re\n",
    "import operator\n",
    "with open(\"Inverted_Index/Corpus.txt\",\"r+\") as a:#importing the corpus\n",
    "    corpus=a.read()\n",
    "with open(\"Inverted_Index/Stopwords.txt\",\"r+\") as b: #importing stopwords\n",
    "    stopwords=b.read()"
   ]
  },
  {
   "cell_type": "code",
   "execution_count": 80,
   "metadata": {},
   "outputs": [],
   "source": [
    "def doc_ID(txt):\n",
    "    if re.search(\"^Document.*\\d$\",txt): \n",
    "        return True\n",
    "def number_check(txt):\n",
    "    if re.search(\"\\d\",txt):\n",
    "        return True\n",
    "    else:\n",
    "        return False\n",
    "#imported from the inverted index project"
   ]
  },
  {
   "cell_type": "code",
   "execution_count": 81,
   "metadata": {},
   "outputs": [],
   "source": [
    "#term frequency weighting\n",
    "def tf(t,d):\n",
    "    term_frequency=0\n",
    "    Doc_ID=0\n",
    "    for i in corpus.split(\" \"):\n",
    "        if doc_ID(i):\n",
    "            Doc_ID+=1\n",
    "        if Doc_ID==d:\n",
    "            if i==t:\n",
    "                term_frequency+=1\n",
    "    return term_frequency\n",
    "def w_tf(t_f):\n",
    "    if t_f>0:\n",
    "        return 1+math.log10(t_f)\n",
    "    else:\n",
    "        return 0"
   ]
  },
  {
   "cell_type": "code",
   "execution_count": 82,
   "metadata": {},
   "outputs": [],
   "source": [
    "#in this part we return the term frequency weighting for a given word in all the documents\n",
    "# t=str(input(\"please enter the term \"))\n",
    "# for i in range(0,7):\n",
    "#     print(t+\"  \"+str(w_tf(tf(t,i+1))))"
   ]
  },
  {
   "cell_type": "code",
   "execution_count": 83,
   "metadata": {},
   "outputs": [],
   "source": [
    "#idf score\n",
    "def df(t):\n",
    "    check=False  \n",
    "    counter=0\n",
    "    tf=0\n",
    "    for i in corpus.split(\" \"):\n",
    "        if doc_ID(i):\n",
    "            check=False\n",
    "        if i == t and check==False:\n",
    "            counter+=1\n",
    "            check=True\n",
    "    tf=counter\n",
    "    return counter\n",
    "#the check variable is used to ignore the rest of the terms in a document when a matching term is found! it works like a flag\n",
    "\n",
    "def idf(N,df):\n",
    "    try:\n",
    "        return math.log10(N/df)\n",
    "    except: #since we can have term with zero document frequnecy,it is possible to face a division by zero error\n",
    "        print(\"df value is equal to zero\")"
   ]
  },
  {
   "cell_type": "code",
   "execution_count": 84,
   "metadata": {},
   "outputs": [],
   "source": [
    "#tf-idf weighting\n",
    "def tf_idf_weighting(w_tf,idf):  #this fucntion needs idf and term frequency weighting(w_tf) as inputs\n",
    "    try:\n",
    "        return w_tf*idf\n",
    "    except:\n",
    "        print(\"df value is equal to zero so tf-idf value is\")\n",
    "#the term frequency used in this functin is just for one document...not for all of them                                \n",
    "#we have to call this function multiple times for multiple use"
   ]
  },
  {
   "cell_type": "code",
   "execution_count": 93,
   "metadata": {},
   "outputs": [
    {
     "name": "stdout",
     "output_type": "stream",
     "text": [
      "enter the query: Unai emery\n",
      "tf-idf weighting for term Unai in the given query: Unai emery in document number: 1 is 0.0\n",
      "tf-idf weighting for term Unai in the given query: Unai emery in document number: 2 is 0.0\n",
      "tf-idf weighting for term Unai in the given query: Unai emery in document number: 3 is 0.0\n",
      "tf-idf weighting for term Unai in the given query: Unai emery in document number: 4 is 0.8450980400142568\n",
      "tf-idf weighting for term Unai in the given query: Unai emery in document number: 5 is 0.0\n",
      "tf-idf weighting for term Unai in the given query: Unai emery in document number: 6 is 0.0\n",
      "tf-idf weighting for term Unai in the given query: Unai emery in document number: 7 is 0.0\n",
      "df value is equal to zero\n",
      "df value is equal to zero so tf-idf value is\n",
      "tf-idf weighting for term emery in the given query: Unai emery in document number: 1 is None\n",
      "df value is equal to zero\n",
      "df value is equal to zero so tf-idf value is\n",
      "df value is equal to zero\n",
      "df value is equal to zero so tf-idf value is\n",
      "tf-idf weighting for term emery in the given query: Unai emery in document number: 2 is None\n",
      "df value is equal to zero\n",
      "df value is equal to zero so tf-idf value is\n",
      "df value is equal to zero\n",
      "df value is equal to zero so tf-idf value is\n",
      "tf-idf weighting for term emery in the given query: Unai emery in document number: 3 is None\n",
      "df value is equal to zero\n",
      "df value is equal to zero so tf-idf value is\n",
      "df value is equal to zero\n",
      "df value is equal to zero so tf-idf value is\n",
      "tf-idf weighting for term emery in the given query: Unai emery in document number: 4 is None\n",
      "df value is equal to zero\n",
      "df value is equal to zero so tf-idf value is\n",
      "df value is equal to zero\n",
      "df value is equal to zero so tf-idf value is\n",
      "tf-idf weighting for term emery in the given query: Unai emery in document number: 5 is None\n",
      "df value is equal to zero\n",
      "df value is equal to zero so tf-idf value is\n",
      "df value is equal to zero\n",
      "df value is equal to zero so tf-idf value is\n",
      "tf-idf weighting for term emery in the given query: Unai emery in document number: 6 is None\n",
      "df value is equal to zero\n",
      "df value is equal to zero so tf-idf value is\n",
      "df value is equal to zero\n",
      "df value is equal to zero so tf-idf value is\n",
      "tf-idf weighting for term emery in the given query: Unai emery in document number: 7 is None\n",
      "df value is equal to zero\n",
      "df value is equal to zero so tf-idf value is\n"
     ]
    }
   ],
   "source": [
    "#we use the scoring method mentioned in the book\n",
    "#by the term \"score\" we mean the sum of tf-idf weightings for term in a given query in a document\n",
    "query=str(input(\"enter the query: \"))\n",
    "tf_idf_dict=dict()\n",
    "for i in query.split(\" \"):\n",
    "    for j in range(0,7):\n",
    "        print(\"tf-idf weighting for term \"+i+\" in the given query: \"+query+\" in document number: \"+str(j+1)+\" is \"+str(tf_idf_weighting(idf(7,df(i)),w_tf(tf(i,j+1)))))\n",
    "        if tf_idf_weighting(idf(7,df(i)),w_tf(tf(i,j+1)))!=None:\n",
    "            tf_idf_dict.update({str(j+1)+\" \"+i:tf_idf_weighting(idf(7,df(i)),w_tf(tf(i,j+1)))})#to store tf-idf weightings for different terms in a given query and documents"
   ]
  },
  {
   "cell_type": "code",
   "execution_count": 94,
   "metadata": {},
   "outputs": [
    {
     "name": "stdout",
     "output_type": "stream",
     "text": [
      "{'1 Unai': 0.0, '2 Unai': 0.0, '3 Unai': 0.0, '4 Unai': 0.8450980400142568, '5 Unai': 0.0, '6 Unai': 0.0, '7 Unai': 0.0}\n"
     ]
    }
   ],
   "source": [
    "print(tf_idf_dict)\n",
    "#doc id , term , tf-idf-weighting"
   ]
  },
  {
   "cell_type": "code",
   "execution_count": 95,
   "metadata": {},
   "outputs": [
    {
     "name": "stdout",
     "output_type": "stream",
     "text": [
      "('4 Unai', 0.8450980400142568)\n",
      "('7 Unai', 0.0)\n",
      "('6 Unai', 0.0)\n",
      "('5 Unai', 0.0)\n",
      "('3 Unai', 0.0)\n",
      "('2 Unai', 0.0)\n",
      "('1 Unai', 0.0)\n"
     ]
    }
   ],
   "source": [
    "try:\n",
    "    sorted_tf_idf=sorted(tf_idf_dict.items(), key=operator.itemgetter(1))#givers items in decreasing order\n",
    "    for i in reversed(sorted_tf_idf):\n",
    "        print(i)\n",
    "except:\n",
    "    print(\"some sort of error occurred!\")"
   ]
  },
  {
   "cell_type": "code",
   "execution_count": null,
   "metadata": {},
   "outputs": [],
   "source": []
  },
  {
   "cell_type": "code",
   "execution_count": null,
   "metadata": {},
   "outputs": [],
   "source": []
  }
 ],
 "metadata": {
  "kernelspec": {
   "display_name": "Python 3",
   "language": "python",
   "name": "python3"
  },
  "language_info": {
   "codemirror_mode": {
    "name": "ipython",
    "version": 3
   },
   "file_extension": ".py",
   "mimetype": "text/x-python",
   "name": "python",
   "nbconvert_exporter": "python",
   "pygments_lexer": "ipython3",
   "version": "3.6.8"
  }
 },
 "nbformat": 4,
 "nbformat_minor": 2
}
